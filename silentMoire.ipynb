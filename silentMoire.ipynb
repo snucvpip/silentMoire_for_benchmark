{
  "nbformat": 4,
  "nbformat_minor": 0,
  "metadata": {
    "colab": {
      "name": "silentMoire.ipynb",
      "provenance": []
    },
    "kernelspec": {
      "name": "python3",
      "display_name": "Python 3"
    },
    "language_info": {
      "name": "python"
    }
  },
  "cells": [
    {
      "cell_type": "markdown",
      "source": [
        "1. images 폴더에 source image와 target image 넣기\n",
        "2. RUN\n",
        "3. output_{filter_name}.png의 형식으로 저장 & 결과 프린트 "
      ],
      "metadata": {
        "id": "Rt_hNutC5nIt"
      }
    },
    {
      "cell_type": "code",
      "metadata": {
        "id": "sRkrAqOgc7uv",
        "colab": {
          "base_uri": "https://localhost:8080/"
        },
        "outputId": "3165c6e3-feff-45f5-b80c-8ea72403d183"
      },
      "source": [
        "!python silent.py ./images/source.png ./images/target.png"
      ],
      "execution_count": null,
      "outputs": [
        {
          "output_type": "stream",
          "name": "stdout",
          "text": [
            "Image dimensions:\n",
            "(784, 865)\n",
            " Choose up to three filter options (e.g. 2 1)\n",
            "(1) Median filter\n",
            "(2) Cut filter\n",
            "(3) Low pass filter\n",
            "(4) Band stop filter\n",
            "1 2 3 4\n",
            "============================== Median filter ==============================\n",
            "elapsed time: 2.5878233909606934s\n",
            "PSNR: 8.461273403856627, SSIM: 0.2578642092981742, MSE: 9267.295696\n",
            "=======================================================================\n",
            "\n",
            "============================== Cut filter ==============================\n",
            "elapsed time: 0.41736602783203125s\n",
            "PSNR: 8.50601176132638, SSIM: 0.2510775409799618, MSE: 9172.319724\n",
            "=======================================================================\n",
            "\n",
            "============================== Low pass filter ==============================\n",
            "elapsed time: 0.32228994369506836s\n",
            "PSNR: 8.503601526498649, SSIM: 0.25042306539647147, MSE: 9177.411564\n",
            "=======================================================================\n",
            "\n",
            "============================== Bandstop filter ==============================\n",
            "elapsed time: 0.7153723239898682s\n",
            "PSNR: 8.501253996324156, SSIM: 0.24903475330189712, MSE: 9182.373652\n",
            "=======================================================================\n",
            "\n"
          ]
        }
      ]
    }
  ]
}