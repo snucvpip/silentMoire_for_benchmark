{
  "cells": [
    {
      "cell_type": "markdown",
      "metadata": {
        "id": "Rt_hNutC5nIt"
      },
      "source": [
        "1. images 폴더에 source image와 target image 넣기\n",
        "2. RUN\n",
        "3. output_{filter_name}.png의 형식으로 저장 & 결과 프린트 "
      ]
    },
    {
      "cell_type": "code",
      "execution_count": 3,
      "metadata": {
        "colab": {
          "base_uri": "https://localhost:8080/"
        },
        "id": "sRkrAqOgc7uv",
        "outputId": "3165c6e3-feff-45f5-b80c-8ea72403d183"
      },
      "outputs": [
        {
          "name": "stdout",
          "output_type": "stream",
          "text": [
            "Image dimensions:\n",
            "(1709, 1873)\n",
            "============================== Median filter ==============================\n",
            "elapsed time: 11.075643301010132s\n",
            "PSNR: 10.135311060017138, SSIM: 0.14568423065294991, MSE: 6303.028268\n",
            "=======================================================================\n",
            "\n"
          ]
        }
      ],
      "source": [
        "!python silent.py ./data/graph_desktop/source.png ./data/graph_desktop/target.png\n"
      ]
    },
    {
      "cell_type": "code",
      "execution_count": 4,
      "metadata": {},
      "outputs": [
        {
          "name": "stdout",
          "output_type": "stream",
          "text": [
            "Image dimensions:\n",
            "(2285, 2629)\n",
            "============================== Median filter ==============================\n",
            "elapsed time: 20.43205189704895s\n",
            "PSNR: 7.966207434053035, SSIM: 0.2999107433998903, MSE: 10386.27022\n",
            "=======================================================================\n",
            "\n"
          ]
        }
      ],
      "source": [
        "!python silent.py ./data/graph_laptop/source.png ./data/graph_laptop/target.png"
      ]
    },
    {
      "cell_type": "code",
      "execution_count": 5,
      "metadata": {},
      "outputs": [
        {
          "name": "stdout",
          "output_type": "stream",
          "text": [
            "Image dimensions:\n",
            "(1753, 2313)\n",
            "============================== Median filter ==============================\n",
            "elapsed time: 14.53706431388855s\n",
            "PSNR: 9.511655716810797, SSIM: 0.1472088670387821, MSE: 7276.370244\n",
            "=======================================================================\n",
            "\n"
          ]
        }
      ],
      "source": [
        "!python silent.py ./data/intro_desktop/source.png ./data/intro_desktop/target.png"
      ]
    },
    {
      "cell_type": "code",
      "execution_count": 6,
      "metadata": {},
      "outputs": [
        {
          "name": "stdout",
          "output_type": "stream",
          "text": [
            "Image dimensions:\n",
            "(2057, 2569)\n",
            "============================== Median filter ==============================\n",
            "elapsed time: 17.156399965286255s\n",
            "PSNR: 11.506284160755573, SSIM: 0.49107891553672894, MSE: 4596.76122\n",
            "=======================================================================\n",
            "\n"
          ]
        }
      ],
      "source": [
        "!python silent.py ./data/intro_laptop/source.png ./data/intro_laptop/target.png"
      ]
    },
    {
      "cell_type": "code",
      "execution_count": 7,
      "metadata": {},
      "outputs": [
        {
          "name": "stdout",
          "output_type": "stream",
          "text": [
            "Image dimensions:\n",
            "(1777, 2657)\n",
            "============================== Median filter ==============================\n",
            "elapsed time: 19.545775890350342s\n",
            "PSNR: 11.039827044388026, SSIM: 0.33785315198921234, MSE: 5117.969064\n",
            "=======================================================================\n",
            "\n"
          ]
        }
      ],
      "source": [
        "!python silent.py ./data/lecture_desktop/source.png ./data/lecture_desktop/target.png"
      ]
    },
    {
      "cell_type": "code",
      "execution_count": 8,
      "metadata": {},
      "outputs": [
        {
          "name": "stdout",
          "output_type": "stream",
          "text": [
            "Image dimensions:\n",
            "(2129, 3257)\n",
            "============================== Median filter ==============================\n",
            "elapsed time: 26.481877088546753s\n",
            "PSNR: 9.483330916447986, SSIM: 0.4135221001789092, MSE: 7323.982016\n",
            "=======================================================================\n",
            "\n"
          ]
        }
      ],
      "source": [
        "!python silent.py ./data/lecture_laptop/source.png ./data/lecture_laptop/target.png"
      ]
    },
    {
      "cell_type": "code",
      "execution_count": 9,
      "metadata": {},
      "outputs": [
        {
          "name": "stdout",
          "output_type": "stream",
          "text": [
            "Image dimensions:\n",
            "(1745, 2493)\n",
            "============================== Median filter ==============================\n",
            "elapsed time: 16.044164896011353s\n",
            "PSNR: 9.34166421048675, SSIM: 0.08374405068883946, MSE: 7566.829352\n",
            "=======================================================================\n",
            "\n"
          ]
        }
      ],
      "source": [
        "!python silent.py ./data/table_desktop/source.png ./data/table_desktop/target.png"
      ]
    },
    {
      "cell_type": "code",
      "execution_count": 10,
      "metadata": {},
      "outputs": [
        {
          "name": "stdout",
          "output_type": "stream",
          "text": [
            "Image dimensions:\n",
            "(1989, 2897)\n",
            "============================== Median filter ==============================\n",
            "elapsed time: 25.79922389984131s\n",
            "PSNR: 9.937766818866308, SSIM: 0.30907172000711425, MSE: 6596.349816\n",
            "=======================================================================\n",
            "\n"
          ]
        }
      ],
      "source": [
        "!python silent.py ./data/table_laptop/source.png ./data/table_laptop/target.png"
      ]
    },
    {
      "cell_type": "code",
      "execution_count": 11,
      "metadata": {},
      "outputs": [
        {
          "name": "stdout",
          "output_type": "stream",
          "text": [
            "Image dimensions:\n",
            "(1857, 2337)\n",
            "============================== Median filter ==============================\n",
            "elapsed time: 23.059303998947144s\n",
            "PSNR: 9.46307014706025, SSIM: 0.19751634509184537, MSE: 7358.229788\n",
            "=======================================================================\n",
            "\n"
          ]
        }
      ],
      "source": [
        "!python silent.py ./data/text_desktop/source.png ./data/text_desktop/target.png"
      ]
    },
    {
      "cell_type": "code",
      "execution_count": 12,
      "metadata": {},
      "outputs": [
        {
          "name": "stdout",
          "output_type": "stream",
          "text": [
            "Image dimensions:\n",
            "(2173, 2729)\n",
            "============================== Median filter ==============================\n",
            "elapsed time: 24.249368906021118s\n",
            "PSNR: 8.428032401652288, SSIM: 0.2838653522950452, MSE: 9338.499948\n",
            "=======================================================================\n",
            "\n"
          ]
        }
      ],
      "source": [
        "!python silent.py ./data/text_laptop/source.png ./data/text_laptop/target.png"
      ]
    }
  ],
  "metadata": {
    "colab": {
      "name": "silentMoire.ipynb",
      "provenance": []
    },
    "kernelspec": {
      "display_name": "Python 3",
      "name": "python3"
    },
    "language_info": {
      "codemirror_mode": {
        "name": "ipython",
        "version": 3
      },
      "file_extension": ".py",
      "mimetype": "text/x-python",
      "name": "python",
      "nbconvert_exporter": "python",
      "pygments_lexer": "ipython3",
      "version": "3.8.11"
    }
  },
  "nbformat": 4,
  "nbformat_minor": 0
}
